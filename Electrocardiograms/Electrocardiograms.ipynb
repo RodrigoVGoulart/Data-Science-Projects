{
 "cells": [
  {
   "cell_type": "markdown",
   "metadata": {},
   "source": [
    "# Electrocardiograms"
   ]
  },
  {
   "cell_type": "code",
   "execution_count": 1,
   "metadata": {},
   "outputs": [],
   "source": [
    "import pandas as pd\n",
    "import numpy as np\n",
    "import seaborn as sns\n",
    "import matplotlib.pyplot as plt\n",
    "\n",
    "%load_ext autoreload\n",
    "%autoreload 2"
   ]
  },
  {
   "cell_type": "code",
   "execution_count": 2,
   "metadata": {},
   "outputs": [],
   "source": [
    "df = pd.read_csv(\"data/electrocardiograms.csv\")"
   ]
  },
  {
   "cell_type": "code",
   "execution_count": 3,
   "metadata": {
    "scrolled": false
   },
   "outputs": [
    {
     "data": {
      "text/html": [
       "<div>\n",
       "<style scoped>\n",
       "    .dataframe tbody tr th:only-of-type {\n",
       "        vertical-align: middle;\n",
       "    }\n",
       "\n",
       "    .dataframe tbody tr th {\n",
       "        vertical-align: top;\n",
       "    }\n",
       "\n",
       "    .dataframe thead th {\n",
       "        text-align: right;\n",
       "    }\n",
       "</style>\n",
       "<table border=\"1\" class=\"dataframe\">\n",
       "  <thead>\n",
       "    <tr style=\"text-align: right;\">\n",
       "      <th></th>\n",
       "      <th>x_1</th>\n",
       "      <th>x_2</th>\n",
       "      <th>x_3</th>\n",
       "      <th>x_4</th>\n",
       "      <th>x_5</th>\n",
       "      <th>x_6</th>\n",
       "      <th>x_7</th>\n",
       "      <th>x_8</th>\n",
       "      <th>x_9</th>\n",
       "      <th>x_10</th>\n",
       "      <th>...</th>\n",
       "      <th>x_179</th>\n",
       "      <th>x_180</th>\n",
       "      <th>x_181</th>\n",
       "      <th>x_182</th>\n",
       "      <th>x_183</th>\n",
       "      <th>x_184</th>\n",
       "      <th>x_185</th>\n",
       "      <th>x_186</th>\n",
       "      <th>x_187</th>\n",
       "      <th>target</th>\n",
       "    </tr>\n",
       "  </thead>\n",
       "  <tbody>\n",
       "    <tr>\n",
       "      <th>0</th>\n",
       "      <td>0.000000</td>\n",
       "      <td>0.041199</td>\n",
       "      <td>0.112360</td>\n",
       "      <td>0.146067</td>\n",
       "      <td>0.202247</td>\n",
       "      <td>0.322097</td>\n",
       "      <td>0.363296</td>\n",
       "      <td>0.413858</td>\n",
       "      <td>0.426966</td>\n",
       "      <td>0.485019</td>\n",
       "      <td>...</td>\n",
       "      <td>0.000000</td>\n",
       "      <td>0.000000</td>\n",
       "      <td>0.000000</td>\n",
       "      <td>0.0</td>\n",
       "      <td>0.0</td>\n",
       "      <td>0.0</td>\n",
       "      <td>0.0</td>\n",
       "      <td>0.0</td>\n",
       "      <td>0.0</td>\n",
       "      <td>1</td>\n",
       "    </tr>\n",
       "    <tr>\n",
       "      <th>1</th>\n",
       "      <td>1.000000</td>\n",
       "      <td>0.901786</td>\n",
       "      <td>0.760714</td>\n",
       "      <td>0.610714</td>\n",
       "      <td>0.466071</td>\n",
       "      <td>0.385714</td>\n",
       "      <td>0.364286</td>\n",
       "      <td>0.346429</td>\n",
       "      <td>0.314286</td>\n",
       "      <td>0.305357</td>\n",
       "      <td>...</td>\n",
       "      <td>0.000000</td>\n",
       "      <td>0.000000</td>\n",
       "      <td>0.000000</td>\n",
       "      <td>0.0</td>\n",
       "      <td>0.0</td>\n",
       "      <td>0.0</td>\n",
       "      <td>0.0</td>\n",
       "      <td>0.0</td>\n",
       "      <td>0.0</td>\n",
       "      <td>1</td>\n",
       "    </tr>\n",
       "    <tr>\n",
       "      <th>2</th>\n",
       "      <td>0.994200</td>\n",
       "      <td>1.000000</td>\n",
       "      <td>0.951276</td>\n",
       "      <td>0.903712</td>\n",
       "      <td>0.917633</td>\n",
       "      <td>0.900232</td>\n",
       "      <td>0.803944</td>\n",
       "      <td>0.656613</td>\n",
       "      <td>0.421114</td>\n",
       "      <td>0.288863</td>\n",
       "      <td>...</td>\n",
       "      <td>0.294664</td>\n",
       "      <td>0.295824</td>\n",
       "      <td>0.301624</td>\n",
       "      <td>0.0</td>\n",
       "      <td>0.0</td>\n",
       "      <td>0.0</td>\n",
       "      <td>0.0</td>\n",
       "      <td>0.0</td>\n",
       "      <td>0.0</td>\n",
       "      <td>1</td>\n",
       "    </tr>\n",
       "    <tr>\n",
       "      <th>3</th>\n",
       "      <td>0.984472</td>\n",
       "      <td>0.962733</td>\n",
       "      <td>0.663043</td>\n",
       "      <td>0.211180</td>\n",
       "      <td>0.000000</td>\n",
       "      <td>0.032609</td>\n",
       "      <td>0.100932</td>\n",
       "      <td>0.177019</td>\n",
       "      <td>0.270186</td>\n",
       "      <td>0.313665</td>\n",
       "      <td>...</td>\n",
       "      <td>0.000000</td>\n",
       "      <td>0.000000</td>\n",
       "      <td>0.000000</td>\n",
       "      <td>0.0</td>\n",
       "      <td>0.0</td>\n",
       "      <td>0.0</td>\n",
       "      <td>0.0</td>\n",
       "      <td>0.0</td>\n",
       "      <td>0.0</td>\n",
       "      <td>1</td>\n",
       "    </tr>\n",
       "    <tr>\n",
       "      <th>4</th>\n",
       "      <td>0.619217</td>\n",
       "      <td>0.489324</td>\n",
       "      <td>0.327402</td>\n",
       "      <td>0.110320</td>\n",
       "      <td>0.000000</td>\n",
       "      <td>0.060498</td>\n",
       "      <td>0.108541</td>\n",
       "      <td>0.108541</td>\n",
       "      <td>0.145907</td>\n",
       "      <td>0.192171</td>\n",
       "      <td>...</td>\n",
       "      <td>0.000000</td>\n",
       "      <td>0.000000</td>\n",
       "      <td>0.000000</td>\n",
       "      <td>0.0</td>\n",
       "      <td>0.0</td>\n",
       "      <td>0.0</td>\n",
       "      <td>0.0</td>\n",
       "      <td>0.0</td>\n",
       "      <td>0.0</td>\n",
       "      <td>1</td>\n",
       "    </tr>\n",
       "    <tr>\n",
       "      <th>...</th>\n",
       "      <td>...</td>\n",
       "      <td>...</td>\n",
       "      <td>...</td>\n",
       "      <td>...</td>\n",
       "      <td>...</td>\n",
       "      <td>...</td>\n",
       "      <td>...</td>\n",
       "      <td>...</td>\n",
       "      <td>...</td>\n",
       "      <td>...</td>\n",
       "      <td>...</td>\n",
       "      <td>...</td>\n",
       "      <td>...</td>\n",
       "      <td>...</td>\n",
       "      <td>...</td>\n",
       "      <td>...</td>\n",
       "      <td>...</td>\n",
       "      <td>...</td>\n",
       "      <td>...</td>\n",
       "      <td>...</td>\n",
       "      <td>...</td>\n",
       "    </tr>\n",
       "    <tr>\n",
       "      <th>19560</th>\n",
       "      <td>1.000000</td>\n",
       "      <td>0.533333</td>\n",
       "      <td>0.049123</td>\n",
       "      <td>0.098246</td>\n",
       "      <td>0.108772</td>\n",
       "      <td>0.091228</td>\n",
       "      <td>0.101754</td>\n",
       "      <td>0.084211</td>\n",
       "      <td>0.105263</td>\n",
       "      <td>0.087719</td>\n",
       "      <td>...</td>\n",
       "      <td>0.000000</td>\n",
       "      <td>0.000000</td>\n",
       "      <td>0.000000</td>\n",
       "      <td>0.0</td>\n",
       "      <td>0.0</td>\n",
       "      <td>0.0</td>\n",
       "      <td>0.0</td>\n",
       "      <td>0.0</td>\n",
       "      <td>0.0</td>\n",
       "      <td>0</td>\n",
       "    </tr>\n",
       "    <tr>\n",
       "      <th>19561</th>\n",
       "      <td>1.000000</td>\n",
       "      <td>0.564854</td>\n",
       "      <td>0.221757</td>\n",
       "      <td>0.202929</td>\n",
       "      <td>0.087866</td>\n",
       "      <td>0.000000</td>\n",
       "      <td>0.041841</td>\n",
       "      <td>0.150628</td>\n",
       "      <td>0.240586</td>\n",
       "      <td>0.290795</td>\n",
       "      <td>...</td>\n",
       "      <td>0.000000</td>\n",
       "      <td>0.000000</td>\n",
       "      <td>0.000000</td>\n",
       "      <td>0.0</td>\n",
       "      <td>0.0</td>\n",
       "      <td>0.0</td>\n",
       "      <td>0.0</td>\n",
       "      <td>0.0</td>\n",
       "      <td>0.0</td>\n",
       "      <td>0</td>\n",
       "    </tr>\n",
       "    <tr>\n",
       "      <th>19562</th>\n",
       "      <td>0.991914</td>\n",
       "      <td>0.735849</td>\n",
       "      <td>0.215633</td>\n",
       "      <td>0.029650</td>\n",
       "      <td>0.061995</td>\n",
       "      <td>0.061995</td>\n",
       "      <td>0.016173</td>\n",
       "      <td>0.010782</td>\n",
       "      <td>0.021563</td>\n",
       "      <td>0.021563</td>\n",
       "      <td>...</td>\n",
       "      <td>0.000000</td>\n",
       "      <td>0.000000</td>\n",
       "      <td>0.000000</td>\n",
       "      <td>0.0</td>\n",
       "      <td>0.0</td>\n",
       "      <td>0.0</td>\n",
       "      <td>0.0</td>\n",
       "      <td>0.0</td>\n",
       "      <td>0.0</td>\n",
       "      <td>0</td>\n",
       "    </tr>\n",
       "    <tr>\n",
       "      <th>19563</th>\n",
       "      <td>1.000000</td>\n",
       "      <td>0.839662</td>\n",
       "      <td>0.240506</td>\n",
       "      <td>0.215190</td>\n",
       "      <td>0.236287</td>\n",
       "      <td>0.198312</td>\n",
       "      <td>0.194093</td>\n",
       "      <td>0.143460</td>\n",
       "      <td>0.135021</td>\n",
       "      <td>0.071730</td>\n",
       "      <td>...</td>\n",
       "      <td>0.000000</td>\n",
       "      <td>0.000000</td>\n",
       "      <td>0.000000</td>\n",
       "      <td>0.0</td>\n",
       "      <td>0.0</td>\n",
       "      <td>0.0</td>\n",
       "      <td>0.0</td>\n",
       "      <td>0.0</td>\n",
       "      <td>0.0</td>\n",
       "      <td>0</td>\n",
       "    </tr>\n",
       "    <tr>\n",
       "      <th>19564</th>\n",
       "      <td>0.934783</td>\n",
       "      <td>0.739130</td>\n",
       "      <td>0.335404</td>\n",
       "      <td>0.093168</td>\n",
       "      <td>0.096273</td>\n",
       "      <td>0.071429</td>\n",
       "      <td>0.027950</td>\n",
       "      <td>0.015528</td>\n",
       "      <td>0.009317</td>\n",
       "      <td>0.006211</td>\n",
       "      <td>...</td>\n",
       "      <td>0.000000</td>\n",
       "      <td>0.000000</td>\n",
       "      <td>0.000000</td>\n",
       "      <td>0.0</td>\n",
       "      <td>0.0</td>\n",
       "      <td>0.0</td>\n",
       "      <td>0.0</td>\n",
       "      <td>0.0</td>\n",
       "      <td>0.0</td>\n",
       "      <td>0</td>\n",
       "    </tr>\n",
       "  </tbody>\n",
       "</table>\n",
       "<p>19565 rows × 188 columns</p>\n",
       "</div>"
      ],
      "text/plain": [
       "            x_1       x_2       x_3       x_4       x_5       x_6       x_7  \\\n",
       "0      0.000000  0.041199  0.112360  0.146067  0.202247  0.322097  0.363296   \n",
       "1      1.000000  0.901786  0.760714  0.610714  0.466071  0.385714  0.364286   \n",
       "2      0.994200  1.000000  0.951276  0.903712  0.917633  0.900232  0.803944   \n",
       "3      0.984472  0.962733  0.663043  0.211180  0.000000  0.032609  0.100932   \n",
       "4      0.619217  0.489324  0.327402  0.110320  0.000000  0.060498  0.108541   \n",
       "...         ...       ...       ...       ...       ...       ...       ...   \n",
       "19560  1.000000  0.533333  0.049123  0.098246  0.108772  0.091228  0.101754   \n",
       "19561  1.000000  0.564854  0.221757  0.202929  0.087866  0.000000  0.041841   \n",
       "19562  0.991914  0.735849  0.215633  0.029650  0.061995  0.061995  0.016173   \n",
       "19563  1.000000  0.839662  0.240506  0.215190  0.236287  0.198312  0.194093   \n",
       "19564  0.934783  0.739130  0.335404  0.093168  0.096273  0.071429  0.027950   \n",
       "\n",
       "            x_8       x_9      x_10  ...     x_179     x_180     x_181  x_182  \\\n",
       "0      0.413858  0.426966  0.485019  ...  0.000000  0.000000  0.000000    0.0   \n",
       "1      0.346429  0.314286  0.305357  ...  0.000000  0.000000  0.000000    0.0   \n",
       "2      0.656613  0.421114  0.288863  ...  0.294664  0.295824  0.301624    0.0   \n",
       "3      0.177019  0.270186  0.313665  ...  0.000000  0.000000  0.000000    0.0   \n",
       "4      0.108541  0.145907  0.192171  ...  0.000000  0.000000  0.000000    0.0   \n",
       "...         ...       ...       ...  ...       ...       ...       ...    ...   \n",
       "19560  0.084211  0.105263  0.087719  ...  0.000000  0.000000  0.000000    0.0   \n",
       "19561  0.150628  0.240586  0.290795  ...  0.000000  0.000000  0.000000    0.0   \n",
       "19562  0.010782  0.021563  0.021563  ...  0.000000  0.000000  0.000000    0.0   \n",
       "19563  0.143460  0.135021  0.071730  ...  0.000000  0.000000  0.000000    0.0   \n",
       "19564  0.015528  0.009317  0.006211  ...  0.000000  0.000000  0.000000    0.0   \n",
       "\n",
       "       x_183  x_184  x_185  x_186  x_187  target  \n",
       "0        0.0    0.0    0.0    0.0    0.0       1  \n",
       "1        0.0    0.0    0.0    0.0    0.0       1  \n",
       "2        0.0    0.0    0.0    0.0    0.0       1  \n",
       "3        0.0    0.0    0.0    0.0    0.0       1  \n",
       "4        0.0    0.0    0.0    0.0    0.0       1  \n",
       "...      ...    ...    ...    ...    ...     ...  \n",
       "19560    0.0    0.0    0.0    0.0    0.0       0  \n",
       "19561    0.0    0.0    0.0    0.0    0.0       0  \n",
       "19562    0.0    0.0    0.0    0.0    0.0       0  \n",
       "19563    0.0    0.0    0.0    0.0    0.0       0  \n",
       "19564    0.0    0.0    0.0    0.0    0.0       0  \n",
       "\n",
       "[19565 rows x 188 columns]"
      ]
     },
     "execution_count": 3,
     "metadata": {},
     "output_type": "execute_result"
    }
   ],
   "source": [
    "df"
   ]
  },
  {
   "cell_type": "markdown",
   "metadata": {},
   "source": [
    "# Data Exploration"
   ]
  },
  {
   "cell_type": "code",
   "execution_count": 4,
   "metadata": {},
   "outputs": [
    {
     "name": "stdout",
     "output_type": "stream",
     "text": [
      "<class 'pandas.core.frame.DataFrame'>\n",
      "RangeIndex: 19565 entries, 0 to 19564\n",
      "Columns: 188 entries, x_1 to target\n",
      "dtypes: float64(187), int64(1)\n",
      "memory usage: 28.1 MB\n"
     ]
    }
   ],
   "source": [
    "df.info()"
   ]
  },
  {
   "cell_type": "code",
   "execution_count": 5,
   "metadata": {},
   "outputs": [],
   "source": [
    "X = df.drop(columns = \"target\")\n",
    "y = df['target']"
   ]
  },
  {
   "cell_type": "code",
   "execution_count": 6,
   "metadata": {},
   "outputs": [
    {
     "data": {
      "text/plain": [
       "[<matplotlib.lines.Line2D at 0x7fcd67f723a0>]"
      ]
     },
     "execution_count": 6,
     "metadata": {},
     "output_type": "execute_result"
    },
    {
     "data": {
      "image/png": "[encoded data removed]",
      "text/plain": [
       "<Figure size 432x288 with 1 Axes>"
      ]
     },
     "metadata": {
      "needs_background": "light"
     },
     "output_type": "display_data"
    }
   ],
   "source": [
    "plt.plot(y)"
   ]
  },
  {
   "cell_type": "code",
   "execution_count": 7,
   "metadata": {},
   "outputs": [],
   "source": [
    "at_risk_count = y[y == 1].sum()"
   ]
  },
  {
   "cell_type": "code",
   "execution_count": 8,
   "metadata": {},
   "outputs": [],
   "source": [
    "healthy_count = y.shape[0] - at_risk_count"
   ]
  },
  {
   "cell_type": "code",
   "execution_count": 9,
   "metadata": {},
   "outputs": [
    {
     "data": {
      "image/png": "[encoded data removed]",
      "text/plain": [
       "<Figure size 432x288 with 1 Axes>"
      ]
     },
     "metadata": {
      "needs_background": "light"
     },
     "output_type": "display_data"
    }
   ],
   "source": [
    "sns.barplot( x = ['at_risk', 'healthy'],\n",
    "             y = [at_risk_count / df.target.count(), healthy_count / df.target.count()]);"
   ]
  },
  {
   "cell_type": "markdown",
   "metadata": {},
   "source": [
    "Pretty unbalanced classes"
   ]
  },
  {
   "cell_type": "markdown",
   "metadata": {},
   "source": [
    "#  Logistic Regression"
   ]
  },
  {
   "cell_type": "markdown",
   "metadata": {},
   "source": [
    "Investigating the performance of a `LogisticRegression` using cross validation to evaluate the model on the following metrics:\n",
    "- Accuracy\n",
    "- Recall\n",
    "- Precision\n",
    "- F1"
   ]
  },
  {
   "cell_type": "code",
   "execution_count": 10,
   "metadata": {
    "tags": []
   },
   "outputs": [],
   "source": [
    "from sklearn.linear_model import LogisticRegression\n",
    "from sklearn.metrics import accuracy_score, f1_score, recall_score, precision_score\n",
    "from sklearn.model_selection import cross_validate\n",
    "\n",
    "model = LogisticRegression(max_iter=1000)\n",
    "\n",
    "scoring = {'accuracy_score': 'accuracy', 'f1_score': 'f1',\n",
    "           'recall_score': 'recall', 'precision_score': 'precision'}\n",
    "\n",
    "predict = cross_validate(model, X, y, scoring = scoring)"
   ]
  },
  {
   "cell_type": "code",
   "execution_count": 11,
   "metadata": {},
   "outputs": [
    {
     "data": {
      "text/plain": [
       "{'fit_time': array([3.44739342, 2.52204275, 2.68585896, 2.21071029, 2.86862183]),\n",
       " 'score_time': array([0.02939153, 0.02088308, 0.04489708, 0.0232513 , 0.02261543]),\n",
       " 'test_accuracy_score': array([0.93892154, 0.93892154, 0.93994378, 0.93841043, 0.93968822]),\n",
       " 'test_f1_score': array([0.41849148, 0.46292135, 0.47191011, 0.44083527, 0.42995169]),\n",
       " 'test_recall_score': array([0.29655172, 0.35517241, 0.36206897, 0.32871972, 0.30795848]),\n",
       " 'test_precision_score': array([0.7107438 , 0.66451613, 0.67741935, 0.66901408, 0.712     ])}"
      ]
     },
     "execution_count": 11,
     "metadata": {},
     "output_type": "execute_result"
    }
   ],
   "source": [
    "predict"
   ]
  },
  {
   "cell_type": "code",
   "execution_count": 12,
   "metadata": {},
   "outputs": [
    {
     "data": {
      "text/plain": [
       "0.9391771019677997"
      ]
     },
     "execution_count": 12,
     "metadata": {},
     "output_type": "execute_result"
    }
   ],
   "source": [
    "correct_pred_ratio = predict['test_accuracy_score'].mean()\n",
    "correct_pred_ratio"
   ]
  },
  {
   "cell_type": "code",
   "execution_count": 13,
   "metadata": {},
   "outputs": [
    {
     "data": {
      "text/plain": [
       "0.3300942608280635"
      ]
     },
     "execution_count": 13,
     "metadata": {},
     "output_type": "execute_result"
    }
   ],
   "source": [
    "flag_ratio = predict['test_recall_score'].mean()\n",
    "flag_ratio"
   ]
  },
  {
   "cell_type": "code",
   "execution_count": 14,
   "metadata": {},
   "outputs": [
    {
     "data": {
      "text/plain": [
       "0.6867386740061804"
      ]
     },
     "execution_count": 14,
     "metadata": {},
     "output_type": "execute_result"
    }
   ],
   "source": [
    "correct_detection_ratio =  predict['test_precision_score'].mean()\n",
    "correct_detection_ratio"
   ]
  },
  {
   "cell_type": "code",
   "execution_count": 15,
   "metadata": {
    "scrolled": true
   },
   "outputs": [
    {
     "data": {
      "text/plain": [
       "0.44482198050033483"
      ]
     },
     "execution_count": 15,
     "metadata": {},
     "output_type": "execute_result"
    }
   ],
   "source": [
    "aggregated_metric = predict['test_f1_score'].mean()\n",
    "aggregated_metric"
   ]
  },
  {
   "cell_type": "markdown",
   "metadata": {},
   "source": [
    "Due to the unbalance data set, it's visible how deceiving accuracy can be."
   ]
  },
  {
   "cell_type": "markdown",
   "metadata": {},
   "source": [
    "# Confusion Matrix"
   ]
  },
  {
   "cell_type": "code",
   "execution_count": 16,
   "metadata": {
    "tags": []
   },
   "outputs": [
    {
     "name": "stderr",
     "output_type": "stream",
     "text": [
      "/home/rodrigo/.pyenv/versions/3.9.5/envs/Dados/lib/python3.9/site-packages/sklearn/utils/deprecation.py:87: FutureWarning: Function plot_confusion_matrix is deprecated; Function `plot_confusion_matrix` is deprecated in 1.0 and will be removed in 1.2. Use one of the class methods: ConfusionMatrixDisplay.from_predictions or ConfusionMatrixDisplay.from_estimator.\n",
      "  warnings.warn(msg, category=FutureWarning)\n"
     ]
    },
    {
     "data": {
      "image/png": "[encoded data removed]",
      "text/plain": [
       "<Figure size 432x288 with 2 Axes>"
      ]
     },
     "metadata": {
      "needs_background": "light"
     },
     "output_type": "display_data"
    }
   ],
   "source": [
    "from sklearn.metrics import plot_confusion_matrix\n",
    "from sklearn.model_selection import train_test_split\n",
    "\n",
    "X_train, X_test, y_train, y_test = train_test_split(X, y, test_size=0.3)\n",
    "model.fit(X_train, y_train)\n",
    "\n",
    "plot_confusion_matrix(model, X_test, y_test, normalize='all')\n",
    "plt.show()"
   ]
  },
  {
   "cell_type": "markdown",
   "metadata": {},
   "source": [
    "The confusion matrix should shows that the model is influenced by the class imbalance: it predicts heartbeats to be healthy most of the time. Due to this behaviour, the model is often correct and has a high accuracy. However, it causes it to miss out on many at risk heartbeats: it has a bad recall."
   ]
  },
  {
   "cell_type": "markdown",
   "metadata": {},
   "source": [
    "# KNN Classifier"
   ]
  },
  {
   "cell_type": "code",
   "execution_count": 17,
   "metadata": {},
   "outputs": [],
   "source": [
    "from sklearn.neighbors import KNeighborsClassifier\n",
    "\n",
    "modelKNN = KNeighborsClassifier()\n",
    "\n",
    "predictKNN = cross_validate(modelKNN, X, y, scoring = scoring)"
   ]
  },
  {
   "cell_type": "code",
   "execution_count": 18,
   "metadata": {},
   "outputs": [
    {
     "data": {
      "text/plain": [
       "{'fit_time': array([0.02242255, 0.02496409, 0.0255959 , 0.01357794, 0.0140419 ]),\n",
       " 'score_time': array([4.19402695, 3.07795787, 3.07345176, 2.99979138, 2.5962944 ]),\n",
       " 'test_accuracy_score': array([0.98798876, 0.98441094, 0.98568873, 0.98543317, 0.98364426]),\n",
       " 'test_f1_score': array([0.91500904, 0.8892922 , 0.90070922, 0.8972973 , 0.88278388]),\n",
       " 'test_recall_score': array([0.87241379, 0.84482759, 0.87586207, 0.8615917 , 0.83391003]),\n",
       " 'test_precision_score': array([0.96197719, 0.93869732, 0.9270073 , 0.93609023, 0.93774319])}"
      ]
     },
     "execution_count": 18,
     "metadata": {},
     "output_type": "execute_result"
    }
   ],
   "source": [
    "predictKNN"
   ]
  },
  {
   "cell_type": "code",
   "execution_count": 19,
   "metadata": {},
   "outputs": [
    {
     "data": {
      "text/plain": [
       "0.8577210356759336"
      ]
     },
     "execution_count": 19,
     "metadata": {},
     "output_type": "execute_result"
    }
   ],
   "source": [
    "flag_ratio_KNN = predictKNN['test_recall_score'].mean()\n",
    "flag_ratio_KNN"
   ]
  },
  {
   "cell_type": "code",
   "execution_count": 20,
   "metadata": {},
   "outputs": [
    {
     "data": {
      "text/plain": [
       "('KNN', 0.8577210356759336)"
      ]
     },
     "execution_count": 20,
     "metadata": {},
     "output_type": "execute_result"
    }
   ],
   "source": [
    "if flag_ratio - flag_ratio_KNN > 0:\n",
    "    best_model = 'LogisticRegression'\n",
    "    ratio = flag_ratio\n",
    "else:\n",
    "    best_model = 'KNN'\n",
    "    ratio = flag_ratio_KNN\n",
    "    \n",
    "best_model, ratio"
   ]
  },
  {
   "cell_type": "markdown",
   "metadata": {},
   "source": [
    "The KNN classifier has a much higher recall than the LogisticRegression being better suited for the task."
   ]
  },
  {
   "cell_type": "markdown",
   "metadata": {},
   "source": [
    "# Classification Report"
   ]
  },
  {
   "cell_type": "markdown",
   "metadata": {},
   "source": [
    "Now that we know the KNN model has the best recall, let's check out its performance accross all the other classification metrics."
   ]
  },
  {
   "cell_type": "code",
   "execution_count": 21,
   "metadata": {
    "scrolled": false
   },
   "outputs": [
    {
     "name": "stdout",
     "output_type": "stream",
     "text": [
      "              precision    recall  f1-score   support\n",
      "\n",
      "           0       0.99      1.00      0.99     18117\n",
      "           1       0.94      0.86      0.90      1448\n",
      "\n",
      "    accuracy                           0.99     19565\n",
      "   macro avg       0.96      0.93      0.94     19565\n",
      "weighted avg       0.99      0.99      0.99     19565\n",
      "\n"
     ]
    }
   ],
   "source": [
    "from sklearn.metrics import classification_report\n",
    "from sklearn.model_selection import cross_val_predict\n",
    "\n",
    "y_pred = cross_val_predict(modelKNN, X, y, cv=5)\n",
    "\n",
    "print(classification_report(y, y_pred))"
   ]
  },
  {
   "cell_type": "code",
   "execution_count": 22,
   "metadata": {},
   "outputs": [],
   "source": [
    "correct_atrisk_predictions = 0.93"
   ]
  },
  {
   "cell_type": "markdown",
   "metadata": {},
   "source": [
    "# Feature engineering"
   ]
  },
  {
   "cell_type": "markdown",
   "metadata": {},
   "source": [
    "Let's try some resampling strategies for imbalanced datasets"
   ]
  },
  {
   "cell_type": "markdown",
   "metadata": {},
   "source": [
    "### Random over-sampling"
   ]
  },
  {
   "cell_type": "code",
   "execution_count": 23,
   "metadata": {},
   "outputs": [
    {
     "data": {
      "text/html": [
       "<div>\n",
       "<style scoped>\n",
       "    .dataframe tbody tr th:only-of-type {\n",
       "        vertical-align: middle;\n",
       "    }\n",
       "\n",
       "    .dataframe tbody tr th {\n",
       "        vertical-align: top;\n",
       "    }\n",
       "\n",
       "    .dataframe thead th {\n",
       "        text-align: right;\n",
       "    }\n",
       "</style>\n",
       "<table border=\"1\" class=\"dataframe\">\n",
       "  <thead>\n",
       "    <tr style=\"text-align: right;\">\n",
       "      <th></th>\n",
       "      <th>x_1</th>\n",
       "      <th>x_2</th>\n",
       "      <th>x_3</th>\n",
       "      <th>x_4</th>\n",
       "      <th>x_5</th>\n",
       "      <th>x_6</th>\n",
       "      <th>x_7</th>\n",
       "      <th>x_8</th>\n",
       "      <th>x_9</th>\n",
       "      <th>x_10</th>\n",
       "      <th>...</th>\n",
       "      <th>x_179</th>\n",
       "      <th>x_180</th>\n",
       "      <th>x_181</th>\n",
       "      <th>x_182</th>\n",
       "      <th>x_183</th>\n",
       "      <th>x_184</th>\n",
       "      <th>x_185</th>\n",
       "      <th>x_186</th>\n",
       "      <th>x_187</th>\n",
       "      <th>target</th>\n",
       "    </tr>\n",
       "  </thead>\n",
       "  <tbody>\n",
       "    <tr>\n",
       "      <th>691</th>\n",
       "      <td>0.000000</td>\n",
       "      <td>0.037688</td>\n",
       "      <td>0.067839</td>\n",
       "      <td>0.085427</td>\n",
       "      <td>0.100503</td>\n",
       "      <td>0.125628</td>\n",
       "      <td>0.175879</td>\n",
       "      <td>0.218593</td>\n",
       "      <td>0.276382</td>\n",
       "      <td>0.346734</td>\n",
       "      <td>...</td>\n",
       "      <td>0.0</td>\n",
       "      <td>0.0</td>\n",
       "      <td>0.0</td>\n",
       "      <td>0.0</td>\n",
       "      <td>0.0</td>\n",
       "      <td>0.0</td>\n",
       "      <td>0.0</td>\n",
       "      <td>0.0</td>\n",
       "      <td>0.0</td>\n",
       "      <td>1</td>\n",
       "    </tr>\n",
       "    <tr>\n",
       "      <th>1070</th>\n",
       "      <td>0.982143</td>\n",
       "      <td>1.000000</td>\n",
       "      <td>0.991667</td>\n",
       "      <td>0.975000</td>\n",
       "      <td>0.972619</td>\n",
       "      <td>0.939286</td>\n",
       "      <td>0.832143</td>\n",
       "      <td>0.629762</td>\n",
       "      <td>0.372619</td>\n",
       "      <td>0.332143</td>\n",
       "      <td>...</td>\n",
       "      <td>0.0</td>\n",
       "      <td>0.0</td>\n",
       "      <td>0.0</td>\n",
       "      <td>0.0</td>\n",
       "      <td>0.0</td>\n",
       "      <td>0.0</td>\n",
       "      <td>0.0</td>\n",
       "      <td>0.0</td>\n",
       "      <td>0.0</td>\n",
       "      <td>1</td>\n",
       "    </tr>\n",
       "    <tr>\n",
       "      <th>5148</th>\n",
       "      <td>1.000000</td>\n",
       "      <td>0.632302</td>\n",
       "      <td>0.000000</td>\n",
       "      <td>0.017182</td>\n",
       "      <td>0.127148</td>\n",
       "      <td>0.127148</td>\n",
       "      <td>0.082474</td>\n",
       "      <td>0.075601</td>\n",
       "      <td>0.092784</td>\n",
       "      <td>0.085911</td>\n",
       "      <td>...</td>\n",
       "      <td>0.0</td>\n",
       "      <td>0.0</td>\n",
       "      <td>0.0</td>\n",
       "      <td>0.0</td>\n",
       "      <td>0.0</td>\n",
       "      <td>0.0</td>\n",
       "      <td>0.0</td>\n",
       "      <td>0.0</td>\n",
       "      <td>0.0</td>\n",
       "      <td>0</td>\n",
       "    </tr>\n",
       "    <tr>\n",
       "      <th>6616</th>\n",
       "      <td>1.000000</td>\n",
       "      <td>0.902597</td>\n",
       "      <td>0.660714</td>\n",
       "      <td>0.482143</td>\n",
       "      <td>0.430195</td>\n",
       "      <td>0.392857</td>\n",
       "      <td>0.324675</td>\n",
       "      <td>0.306818</td>\n",
       "      <td>0.324675</td>\n",
       "      <td>0.318182</td>\n",
       "      <td>...</td>\n",
       "      <td>0.0</td>\n",
       "      <td>0.0</td>\n",
       "      <td>0.0</td>\n",
       "      <td>0.0</td>\n",
       "      <td>0.0</td>\n",
       "      <td>0.0</td>\n",
       "      <td>0.0</td>\n",
       "      <td>0.0</td>\n",
       "      <td>0.0</td>\n",
       "      <td>0</td>\n",
       "    </tr>\n",
       "    <tr>\n",
       "      <th>11804</th>\n",
       "      <td>0.008197</td>\n",
       "      <td>0.196721</td>\n",
       "      <td>0.250000</td>\n",
       "      <td>0.377049</td>\n",
       "      <td>0.372951</td>\n",
       "      <td>0.385246</td>\n",
       "      <td>0.389344</td>\n",
       "      <td>0.393443</td>\n",
       "      <td>0.360656</td>\n",
       "      <td>0.377049</td>\n",
       "      <td>...</td>\n",
       "      <td>0.0</td>\n",
       "      <td>0.0</td>\n",
       "      <td>0.0</td>\n",
       "      <td>0.0</td>\n",
       "      <td>0.0</td>\n",
       "      <td>0.0</td>\n",
       "      <td>0.0</td>\n",
       "      <td>0.0</td>\n",
       "      <td>0.0</td>\n",
       "      <td>0</td>\n",
       "    </tr>\n",
       "    <tr>\n",
       "      <th>...</th>\n",
       "      <td>...</td>\n",
       "      <td>...</td>\n",
       "      <td>...</td>\n",
       "      <td>...</td>\n",
       "      <td>...</td>\n",
       "      <td>...</td>\n",
       "      <td>...</td>\n",
       "      <td>...</td>\n",
       "      <td>...</td>\n",
       "      <td>...</td>\n",
       "      <td>...</td>\n",
       "      <td>...</td>\n",
       "      <td>...</td>\n",
       "      <td>...</td>\n",
       "      <td>...</td>\n",
       "      <td>...</td>\n",
       "      <td>...</td>\n",
       "      <td>...</td>\n",
       "      <td>...</td>\n",
       "      <td>...</td>\n",
       "      <td>...</td>\n",
       "    </tr>\n",
       "    <tr>\n",
       "      <th>14305</th>\n",
       "      <td>0.910377</td>\n",
       "      <td>0.554245</td>\n",
       "      <td>0.318396</td>\n",
       "      <td>0.216981</td>\n",
       "      <td>0.115566</td>\n",
       "      <td>0.054245</td>\n",
       "      <td>0.009434</td>\n",
       "      <td>0.016509</td>\n",
       "      <td>0.011792</td>\n",
       "      <td>0.011792</td>\n",
       "      <td>...</td>\n",
       "      <td>0.0</td>\n",
       "      <td>0.0</td>\n",
       "      <td>0.0</td>\n",
       "      <td>0.0</td>\n",
       "      <td>0.0</td>\n",
       "      <td>0.0</td>\n",
       "      <td>0.0</td>\n",
       "      <td>0.0</td>\n",
       "      <td>0.0</td>\n",
       "      <td>0</td>\n",
       "    </tr>\n",
       "    <tr>\n",
       "      <th>9268</th>\n",
       "      <td>0.261168</td>\n",
       "      <td>0.000000</td>\n",
       "      <td>0.175258</td>\n",
       "      <td>0.305842</td>\n",
       "      <td>0.357388</td>\n",
       "      <td>0.371134</td>\n",
       "      <td>0.395189</td>\n",
       "      <td>0.405498</td>\n",
       "      <td>0.402062</td>\n",
       "      <td>0.395189</td>\n",
       "      <td>...</td>\n",
       "      <td>0.0</td>\n",
       "      <td>0.0</td>\n",
       "      <td>0.0</td>\n",
       "      <td>0.0</td>\n",
       "      <td>0.0</td>\n",
       "      <td>0.0</td>\n",
       "      <td>0.0</td>\n",
       "      <td>0.0</td>\n",
       "      <td>0.0</td>\n",
       "      <td>0</td>\n",
       "    </tr>\n",
       "    <tr>\n",
       "      <th>7132</th>\n",
       "      <td>1.000000</td>\n",
       "      <td>0.903587</td>\n",
       "      <td>0.087444</td>\n",
       "      <td>0.035874</td>\n",
       "      <td>0.136771</td>\n",
       "      <td>0.147982</td>\n",
       "      <td>0.139013</td>\n",
       "      <td>0.134529</td>\n",
       "      <td>0.125561</td>\n",
       "      <td>0.123318</td>\n",
       "      <td>...</td>\n",
       "      <td>0.0</td>\n",
       "      <td>0.0</td>\n",
       "      <td>0.0</td>\n",
       "      <td>0.0</td>\n",
       "      <td>0.0</td>\n",
       "      <td>0.0</td>\n",
       "      <td>0.0</td>\n",
       "      <td>0.0</td>\n",
       "      <td>0.0</td>\n",
       "      <td>0</td>\n",
       "    </tr>\n",
       "    <tr>\n",
       "      <th>12368</th>\n",
       "      <td>0.906122</td>\n",
       "      <td>0.289796</td>\n",
       "      <td>0.134694</td>\n",
       "      <td>0.355102</td>\n",
       "      <td>0.485714</td>\n",
       "      <td>0.555102</td>\n",
       "      <td>0.534694</td>\n",
       "      <td>0.518367</td>\n",
       "      <td>0.551020</td>\n",
       "      <td>0.563265</td>\n",
       "      <td>...</td>\n",
       "      <td>0.0</td>\n",
       "      <td>0.0</td>\n",
       "      <td>0.0</td>\n",
       "      <td>0.0</td>\n",
       "      <td>0.0</td>\n",
       "      <td>0.0</td>\n",
       "      <td>0.0</td>\n",
       "      <td>0.0</td>\n",
       "      <td>0.0</td>\n",
       "      <td>0</td>\n",
       "    </tr>\n",
       "    <tr>\n",
       "      <th>13764</th>\n",
       "      <td>1.000000</td>\n",
       "      <td>0.835470</td>\n",
       "      <td>0.254274</td>\n",
       "      <td>0.006410</td>\n",
       "      <td>0.034188</td>\n",
       "      <td>0.100427</td>\n",
       "      <td>0.076923</td>\n",
       "      <td>0.072650</td>\n",
       "      <td>0.053419</td>\n",
       "      <td>0.055556</td>\n",
       "      <td>...</td>\n",
       "      <td>0.0</td>\n",
       "      <td>0.0</td>\n",
       "      <td>0.0</td>\n",
       "      <td>0.0</td>\n",
       "      <td>0.0</td>\n",
       "      <td>0.0</td>\n",
       "      <td>0.0</td>\n",
       "      <td>0.0</td>\n",
       "      <td>0.0</td>\n",
       "      <td>0</td>\n",
       "    </tr>\n",
       "  </tbody>\n",
       "</table>\n",
       "<p>13695 rows × 188 columns</p>\n",
       "</div>"
      ],
      "text/plain": [
       "            x_1       x_2       x_3       x_4       x_5       x_6       x_7  \\\n",
       "691    0.000000  0.037688  0.067839  0.085427  0.100503  0.125628  0.175879   \n",
       "1070   0.982143  1.000000  0.991667  0.975000  0.972619  0.939286  0.832143   \n",
       "5148   1.000000  0.632302  0.000000  0.017182  0.127148  0.127148  0.082474   \n",
       "6616   1.000000  0.902597  0.660714  0.482143  0.430195  0.392857  0.324675   \n",
       "11804  0.008197  0.196721  0.250000  0.377049  0.372951  0.385246  0.389344   \n",
       "...         ...       ...       ...       ...       ...       ...       ...   \n",
       "14305  0.910377  0.554245  0.318396  0.216981  0.115566  0.054245  0.009434   \n",
       "9268   0.261168  0.000000  0.175258  0.305842  0.357388  0.371134  0.395189   \n",
       "7132   1.000000  0.903587  0.087444  0.035874  0.136771  0.147982  0.139013   \n",
       "12368  0.906122  0.289796  0.134694  0.355102  0.485714  0.555102  0.534694   \n",
       "13764  1.000000  0.835470  0.254274  0.006410  0.034188  0.100427  0.076923   \n",
       "\n",
       "            x_8       x_9      x_10  ...  x_179  x_180  x_181  x_182  x_183  \\\n",
       "691    0.218593  0.276382  0.346734  ...    0.0    0.0    0.0    0.0    0.0   \n",
       "1070   0.629762  0.372619  0.332143  ...    0.0    0.0    0.0    0.0    0.0   \n",
       "5148   0.075601  0.092784  0.085911  ...    0.0    0.0    0.0    0.0    0.0   \n",
       "6616   0.306818  0.324675  0.318182  ...    0.0    0.0    0.0    0.0    0.0   \n",
       "11804  0.393443  0.360656  0.377049  ...    0.0    0.0    0.0    0.0    0.0   \n",
       "...         ...       ...       ...  ...    ...    ...    ...    ...    ...   \n",
       "14305  0.016509  0.011792  0.011792  ...    0.0    0.0    0.0    0.0    0.0   \n",
       "9268   0.405498  0.402062  0.395189  ...    0.0    0.0    0.0    0.0    0.0   \n",
       "7132   0.134529  0.125561  0.123318  ...    0.0    0.0    0.0    0.0    0.0   \n",
       "12368  0.518367  0.551020  0.563265  ...    0.0    0.0    0.0    0.0    0.0   \n",
       "13764  0.072650  0.053419  0.055556  ...    0.0    0.0    0.0    0.0    0.0   \n",
       "\n",
       "       x_184  x_185  x_186  x_187  target  \n",
       "691      0.0    0.0    0.0    0.0       1  \n",
       "1070     0.0    0.0    0.0    0.0       1  \n",
       "5148     0.0    0.0    0.0    0.0       0  \n",
       "6616     0.0    0.0    0.0    0.0       0  \n",
       "11804    0.0    0.0    0.0    0.0       0  \n",
       "...      ...    ...    ...    ...     ...  \n",
       "14305    0.0    0.0    0.0    0.0       0  \n",
       "9268     0.0    0.0    0.0    0.0       0  \n",
       "7132     0.0    0.0    0.0    0.0       0  \n",
       "12368    0.0    0.0    0.0    0.0       0  \n",
       "13764    0.0    0.0    0.0    0.0       0  \n",
       "\n",
       "[13695 rows x 188 columns]"
      ]
     },
     "execution_count": 23,
     "metadata": {},
     "output_type": "execute_result"
    }
   ],
   "source": [
    "df_train_over = pd.concat([X_train, y_train], axis = 1)\n",
    "df_train_over"
   ]
  },
  {
   "cell_type": "code",
   "execution_count": 24,
   "metadata": {},
   "outputs": [],
   "source": [
    "df_class_0 = df_train_over[df_train_over['target'] == 0]\n",
    "df_class_1 = df_train_over[df_train_over['target'] == 1]"
   ]
  },
  {
   "cell_type": "markdown",
   "metadata": {},
   "source": [
    "Under-sampling might cause too much information loss, so let's jump straight to over-sampling the minority class\n"
   ]
  },
  {
   "cell_type": "code",
   "execution_count": 25,
   "metadata": {},
   "outputs": [],
   "source": [
    "df_class_1_over = df_class_1.sample(df_class_0.target.count(), replace=True)"
   ]
  },
  {
   "cell_type": "code",
   "execution_count": 26,
   "metadata": {},
   "outputs": [],
   "source": [
    "df_train = pd.concat([df_class_0, df_class_1_over], axis = 0)"
   ]
  },
  {
   "cell_type": "code",
   "execution_count": 27,
   "metadata": {},
   "outputs": [
    {
     "data": {
      "text/plain": [
       "0    12657\n",
       "1    12657\n",
       "Name: target, dtype: int64"
      ]
     },
     "execution_count": 27,
     "metadata": {},
     "output_type": "execute_result"
    }
   ],
   "source": [
    "df_train.target.value_counts()"
   ]
  },
  {
   "cell_type": "code",
   "execution_count": 28,
   "metadata": {},
   "outputs": [],
   "source": [
    "X_train_over = df_train.drop(columns='target')\n",
    "y_train_over = df_train['target']"
   ]
  },
  {
   "cell_type": "markdown",
   "metadata": {},
   "source": [
    "Testing the models performance on the balanced dataset"
   ]
  },
  {
   "cell_type": "code",
   "execution_count": 29,
   "metadata": {},
   "outputs": [
    {
     "name": "stdout",
     "output_type": "stream",
     "text": [
      "              precision    recall  f1-score   support\n",
      "\n",
      "           0       0.99      0.99      0.99      5460\n",
      "           1       0.82      0.90      0.86       410\n",
      "\n",
      "    accuracy                           0.98      5870\n",
      "   macro avg       0.91      0.94      0.92      5870\n",
      "weighted avg       0.98      0.98      0.98      5870\n",
      "\n"
     ]
    }
   ],
   "source": [
    "modelKNN = KNeighborsClassifier()\n",
    "\n",
    "modelKNN.fit(X_train_over, y_train_over)\n",
    "\n",
    "y_pred_over = modelKNN.predict(X_test)\n",
    "\n",
    "print(classification_report(y_test, y_pred_over))"
   ]
  },
  {
   "cell_type": "code",
   "execution_count": 30,
   "metadata": {},
   "outputs": [
    {
     "name": "stdout",
     "output_type": "stream",
     "text": [
      "              precision    recall  f1-score   support\n",
      "\n",
      "           0       0.99      0.85      0.91      5460\n",
      "           1       0.30      0.85      0.44       410\n",
      "\n",
      "    accuracy                           0.85      5870\n",
      "   macro avg       0.64      0.85      0.68      5870\n",
      "weighted avg       0.94      0.85      0.88      5870\n",
      "\n"
     ]
    }
   ],
   "source": [
    "modelLG = LogisticRegression(max_iter=1000)\n",
    "\n",
    "modelLG.fit(X_train_over, y_train_over)\n",
    "\n",
    "y_pred_over = modelLG.predict(X_test)\n",
    "\n",
    "print(classification_report(y_test, y_pred_over))"
   ]
  },
  {
   "cell_type": "markdown",
   "metadata": {},
   "source": [
    "### Python imbalanced-learn"
   ]
  },
  {
   "cell_type": "code",
   "execution_count": 31,
   "metadata": {},
   "outputs": [],
   "source": [
    "import imblearn"
   ]
  },
  {
   "cell_type": "code",
   "execution_count": 32,
   "metadata": {},
   "outputs": [],
   "source": [
    "from imblearn.over_sampling import RandomOverSampler"
   ]
  },
  {
   "cell_type": "code",
   "execution_count": 33,
   "metadata": {},
   "outputs": [],
   "source": [
    "ros = RandomOverSampler()\n",
    "\n",
    "df_ROS, y_ROS = ros.fit_resample(X_train, y_train)"
   ]
  },
  {
   "cell_type": "code",
   "execution_count": 34,
   "metadata": {},
   "outputs": [
    {
     "data": {
      "text/plain": [
       "1    12657\n",
       "0    12657\n",
       "Name: target, dtype: int64"
      ]
     },
     "execution_count": 34,
     "metadata": {},
     "output_type": "execute_result"
    }
   ],
   "source": [
    "y_ROS.value_counts()"
   ]
  },
  {
   "cell_type": "code",
   "execution_count": 35,
   "metadata": {},
   "outputs": [
    {
     "name": "stdout",
     "output_type": "stream",
     "text": [
      "              precision    recall  f1-score   support\n",
      "\n",
      "           0       0.99      0.99      0.99      5460\n",
      "           1       0.82      0.90      0.86       410\n",
      "\n",
      "    accuracy                           0.98      5870\n",
      "   macro avg       0.91      0.94      0.92      5870\n",
      "weighted avg       0.98      0.98      0.98      5870\n",
      "\n"
     ]
    }
   ],
   "source": [
    "modelKNN = KNeighborsClassifier()\n",
    "\n",
    "modelKNN.fit(df_ROS, y_ROS)\n",
    "\n",
    "y_pred_over = modelKNN.predict(X_test)\n",
    "\n",
    "print(classification_report(y_test, y_pred_over))"
   ]
  },
  {
   "cell_type": "code",
   "execution_count": 36,
   "metadata": {},
   "outputs": [
    {
     "name": "stdout",
     "output_type": "stream",
     "text": [
      "              precision    recall  f1-score   support\n",
      "\n",
      "           0       0.99      0.85      0.91      5460\n",
      "           1       0.30      0.86      0.45       410\n",
      "\n",
      "    accuracy                           0.85      5870\n",
      "   macro avg       0.64      0.85      0.68      5870\n",
      "weighted avg       0.94      0.85      0.88      5870\n",
      "\n"
     ]
    }
   ],
   "source": [
    "modelLG = LogisticRegression(max_iter=1000)\n",
    "\n",
    "modelLG.fit(df_ROS, y_ROS)\n",
    "\n",
    "y_pred_over = modelLG.predict(X_test)\n",
    "\n",
    "print(classification_report(y_test, y_pred_over))"
   ]
  },
  {
   "cell_type": "markdown",
   "metadata": {},
   "source": [
    "### Tomek Links"
   ]
  },
  {
   "cell_type": "code",
   "execution_count": 37,
   "metadata": {},
   "outputs": [],
   "source": [
    "from imblearn.under_sampling import TomekLinks\n",
    "\n",
    "tl = TomekLinks(sampling_strategy='majority')\n",
    "\n",
    "X_tl, y_tl = tl.fit_resample(X_train, y_train)"
   ]
  },
  {
   "cell_type": "code",
   "execution_count": 38,
   "metadata": {},
   "outputs": [
    {
     "name": "stdout",
     "output_type": "stream",
     "text": [
      "              precision    recall  f1-score   support\n",
      "\n",
      "           0       0.99      1.00      0.99      5460\n",
      "           1       0.94      0.84      0.89       410\n",
      "\n",
      "    accuracy                           0.99      5870\n",
      "   macro avg       0.97      0.92      0.94      5870\n",
      "weighted avg       0.98      0.99      0.98      5870\n",
      "\n"
     ]
    }
   ],
   "source": [
    "modelKNN = KNeighborsClassifier()\n",
    "\n",
    "modelKNN.fit(X_tl, y_tl)\n",
    "\n",
    "y_pred_over = modelKNN.predict(X_test)\n",
    "\n",
    "print(classification_report(y_test, y_pred_over))"
   ]
  },
  {
   "cell_type": "code",
   "execution_count": 39,
   "metadata": {},
   "outputs": [
    {
     "name": "stdout",
     "output_type": "stream",
     "text": [
      "              precision    recall  f1-score   support\n",
      "\n",
      "           0       0.95      0.99      0.97      5460\n",
      "           1       0.70      0.35      0.47       410\n",
      "\n",
      "    accuracy                           0.94      5870\n",
      "   macro avg       0.83      0.67      0.72      5870\n",
      "weighted avg       0.94      0.94      0.94      5870\n",
      "\n"
     ]
    }
   ],
   "source": [
    "modelLG = LogisticRegression(max_iter=1000)\n",
    "\n",
    "modelLG.fit(X_tl, y_tl)\n",
    "\n",
    "y_pred_over = modelLG.predict(X_test)\n",
    "\n",
    "print(classification_report(y_test, y_pred_over))"
   ]
  },
  {
   "cell_type": "markdown",
   "metadata": {},
   "source": [
    "### SMOTE"
   ]
  },
  {
   "cell_type": "code",
   "execution_count": 40,
   "metadata": {},
   "outputs": [],
   "source": [
    "from imblearn.over_sampling import SMOTE\n",
    "\n",
    "smote = SMOTE(sampling_strategy='minority')\n",
    "\n",
    "X_sm, y_sm = smote.fit_resample(X_train, y_train)"
   ]
  },
  {
   "cell_type": "code",
   "execution_count": 41,
   "metadata": {},
   "outputs": [
    {
     "data": {
      "text/plain": [
       "1    12657\n",
       "0    12657\n",
       "Name: target, dtype: int64"
      ]
     },
     "execution_count": 41,
     "metadata": {},
     "output_type": "execute_result"
    }
   ],
   "source": [
    "y_sm.value_counts()"
   ]
  },
  {
   "cell_type": "code",
   "execution_count": 42,
   "metadata": {},
   "outputs": [
    {
     "name": "stdout",
     "output_type": "stream",
     "text": [
      "              precision    recall  f1-score   support\n",
      "\n",
      "           0       0.99      0.98      0.99      5460\n",
      "           1       0.78      0.92      0.84       410\n",
      "\n",
      "    accuracy                           0.98      5870\n",
      "   macro avg       0.89      0.95      0.91      5870\n",
      "weighted avg       0.98      0.98      0.98      5870\n",
      "\n"
     ]
    }
   ],
   "source": [
    "modelKNN = KNeighborsClassifier()\n",
    "\n",
    "modelKNN.fit(X_sm, y_sm)\n",
    "\n",
    "y_pred_over = modelKNN.predict(X_test)\n",
    "\n",
    "print(classification_report(y_test, y_pred_over))"
   ]
  },
  {
   "cell_type": "code",
   "execution_count": 43,
   "metadata": {},
   "outputs": [
    {
     "name": "stdout",
     "output_type": "stream",
     "text": [
      "              precision    recall  f1-score   support\n",
      "\n",
      "           0       0.99      0.85      0.91      5460\n",
      "           1       0.30      0.85      0.44       410\n",
      "\n",
      "    accuracy                           0.85      5870\n",
      "   macro avg       0.64      0.85      0.68      5870\n",
      "weighted avg       0.94      0.85      0.88      5870\n",
      "\n"
     ]
    }
   ],
   "source": [
    "modelLG = LogisticRegression(max_iter=1000)\n",
    "\n",
    "modelLG.fit(X_sm, y_sm)\n",
    "\n",
    "y_pred_over = modelLG.predict(X_test)\n",
    "\n",
    "print(classification_report(y_test, y_pred_over))"
   ]
  },
  {
   "cell_type": "markdown",
   "metadata": {},
   "source": [
    "### SMOTE + Tomek Links together"
   ]
  },
  {
   "cell_type": "code",
   "execution_count": 44,
   "metadata": {},
   "outputs": [],
   "source": [
    "from imblearn.combine import SMOTETomek\n",
    "\n",
    "smt = SMOTETomek(sampling_strategy='auto')\n",
    "\n",
    "X_smt, y_smt = smt.fit_resample(X_train, y_train)"
   ]
  },
  {
   "cell_type": "code",
   "execution_count": 45,
   "metadata": {},
   "outputs": [
    {
     "name": "stdout",
     "output_type": "stream",
     "text": [
      "              precision    recall  f1-score   support\n",
      "\n",
      "           0       0.99      0.98      0.99      5460\n",
      "           1       0.78      0.93      0.84       410\n",
      "\n",
      "    accuracy                           0.98      5870\n",
      "   macro avg       0.88      0.95      0.92      5870\n",
      "weighted avg       0.98      0.98      0.98      5870\n",
      "\n"
     ]
    }
   ],
   "source": [
    "modelKNN = KNeighborsClassifier()\n",
    "\n",
    "modelKNN.fit(X_smt, y_smt)\n",
    "\n",
    "y_pred_over = modelKNN.predict(X_test)\n",
    "\n",
    "print(classification_report(y_test, y_pred_over))"
   ]
  },
  {
   "cell_type": "markdown",
   "metadata": {},
   "source": [
    "Re-sampling techniques managed to improve model efficiency by 3% for KNN and more then 20% for the Logistic Regression model. It proves that a more balanced training dataset is vital to improving model performance."
   ]
  },
  {
   "cell_type": "markdown",
   "metadata": {},
   "source": [
    "# Ensemble methods and model tuning"
   ]
  },
  {
   "cell_type": "code",
   "execution_count": 46,
   "metadata": {},
   "outputs": [],
   "source": [
    "from sklearn.ensemble import BaggingClassifier, GradientBoostingClassifier,\\\n",
    "                             RandomForestClassifier, VotingClassifier\n",
    "from xgboost import XGBClassifier"
   ]
  },
  {
   "cell_type": "code",
   "execution_count": 47,
   "metadata": {},
   "outputs": [],
   "source": [
    "from sklearn.model_selection import GridSearchCV, RandomizedSearchCV\n",
    "from sklearn.metrics import recall_score"
   ]
  },
  {
   "cell_type": "code",
   "execution_count": 48,
   "metadata": {},
   "outputs": [
    {
     "name": "stdout",
     "output_type": "stream",
     "text": [
      "              precision    recall  f1-score   support\n",
      "\n",
      "           0       0.99      0.99      0.99      5460\n",
      "           1       0.93      0.93      0.93       410\n",
      "\n",
      "    accuracy                           0.99      5870\n",
      "   macro avg       0.96      0.96      0.96      5870\n",
      "weighted avg       0.99      0.99      0.99      5870\n",
      "\n"
     ]
    }
   ],
   "source": [
    "modelXGB = XGBClassifier(use_label_encoder=False, eval_metric = 'auc')\n",
    "\n",
    "modelXGB.fit(X_sm, y_sm)\n",
    "\n",
    "y_pred_over = modelXGB.predict(X_test)\n",
    "\n",
    "print(classification_report(y_test, y_pred_over))"
   ]
  },
  {
   "cell_type": "code",
   "execution_count": 49,
   "metadata": {},
   "outputs": [
    {
     "name": "stdout",
     "output_type": "stream",
     "text": [
      "              precision    recall  f1-score   support\n",
      "\n",
      "           0       0.99      0.99      0.99      5460\n",
      "           1       0.87      0.89      0.88       410\n",
      "\n",
      "    accuracy                           0.98      5870\n",
      "   macro avg       0.93      0.94      0.94      5870\n",
      "weighted avg       0.98      0.98      0.98      5870\n",
      "\n"
     ]
    }
   ],
   "source": [
    "modelBgg = BaggingClassifier()\n",
    "\n",
    "modelBgg.fit(X_sm, y_sm)\n",
    "\n",
    "y_pred_over = modelBgg.predict(X_test)\n",
    "\n",
    "print(classification_report(y_test, y_pred_over))"
   ]
  },
  {
   "cell_type": "code",
   "execution_count": 52,
   "metadata": {},
   "outputs": [
    {
     "data": {
      "text/plain": [
       "VotingClassifier(estimators=[('knn', KNeighborsClassifier()),\n",
       "                             ('LR', LogisticRegression(max_iter=1000)),\n",
       "                             ('bgg', BaggingClassifier()),\n",
       "                             ('xgb',\n",
       "                              XGBClassifier(base_score=None, booster=None,\n",
       "                                            colsample_bylevel=None,\n",
       "                                            colsample_bynode=None,\n",
       "                                            colsample_bytree=None,\n",
       "                                            enable_categorical=False,\n",
       "                                            eval_metric='auc', gamma=None,\n",
       "                                            gpu_id=None, importance_type=None,\n",
       "                                            interaction_const...\n",
       "                                            monotone_constraints=None,\n",
       "                                            n_estimators=100, n_jobs=None,\n",
       "                                            num_parallel_tree=None,\n",
       "                                            predictor=None, random_state=None,\n",
       "                                            reg_alpha=None, reg_lambda=None,\n",
       "                                            scale_pos_weight=None,\n",
       "                                            subsample=None, tree_method=None,\n",
       "                                            use_label_encoder=False,\n",
       "                                            validate_parameters=None,\n",
       "                                            verbosity=None)),\n",
       "                             ('gbc', GradientBoostingClassifier()),\n",
       "                             ('rndfor', RandomForestClassifier())],\n",
       "                 voting='soft', weights=[1, 1, 1, 1, 1, 1])"
      ]
     },
     "execution_count": 52,
     "metadata": {},
     "output_type": "execute_result"
    }
   ],
   "source": [
    "estimators = [('knn', KNeighborsClassifier()),\n",
    "              ('LgR', LogisticRegression(max_iter=1000)),\n",
    "              ('bgg', BaggingClassifier()),\n",
    "              ('xgb', XGBClassifier(use_label_encoder=False, eval_metric = 'auc')),\n",
    "              ('gbc', GradientBoostingClassifier()),\n",
    "              ('rdf', RandomForestClassifier())]\n",
    "\n",
    "ensemble = VotingClassifier(\n",
    "    estimators = estimators,\n",
    "    voting = 'soft',\n",
    "    weights = [1 for i in range(len(estimators))])\n",
    "\n",
    "ensemble.fit(X_sm, y_sm)"
   ]
  },
  {
   "cell_type": "code",
   "execution_count": 53,
   "metadata": {},
   "outputs": [
    {
     "name": "stdout",
     "output_type": "stream",
     "text": [
      "              precision    recall  f1-score   support\n",
      "\n",
      "           0       1.00      0.99      0.99      5460\n",
      "           1       0.92      0.95      0.93       410\n",
      "\n",
      "    accuracy                           0.99      5870\n",
      "   macro avg       0.96      0.97      0.96      5870\n",
      "weighted avg       0.99      0.99      0.99      5870\n",
      "\n"
     ]
    }
   ],
   "source": [
    "y_pred_over = ensemble.predict(X_test)\n",
    "\n",
    "print(classification_report(y_test, y_pred_over))"
   ]
  },
  {
   "cell_type": "markdown",
   "metadata": {},
   "source": [
    "Using various ensemble methods can improve model recall 1% over the best model used so far."
   ]
  }
 ],
 "metadata": {
  "kernelspec": {
   "display_name": "Python 3 (ipykernel)",
   "language": "python",
   "name": "python3"
  },
  "language_info": {
   "codemirror_mode": {
    "name": "ipython",
    "version": 3
   },
   "file_extension": ".py",
   "mimetype": "text/x-python",
   "name": "python",
   "nbconvert_exporter": "python",
   "pygments_lexer": "ipython3",
   "version": "3.9.5"
  },
  "latex_envs": {
   "LaTeX_envs_menu_present": true,
   "autoclose": false,
   "autocomplete": true,
   "bibliofile": "biblio.bib",
   "cite_by": "apalike",
   "current_citInitial": 1,
   "eqLabelWithNumbers": true,
   "eqNumInitial": 1,
   "hotkeys": {
    "equation": "Ctrl-E",
    "itemize": "Ctrl-I"
   },
   "labels_anchors": false,
   "latex_user_defs": false,
   "report_style_numbering": false,
   "user_envs_cfg": false
  },
  "toc": {
   "base_numbering": 1,
   "nav_menu": {},
   "number_sections": false,
   "sideBar": true,
   "skip_h1_title": false,
   "title_cell": "Table of Contents",
   "title_sidebar": "Contents",
   "toc_cell": false,
   "toc_position": {
    "height": "calc(100% - 180px)",
    "left": "10px",
    "top": "150px",
    "width": "288px"
   },
   "toc_section_display": true,
   "toc_window_display": false
  },
  "varInspector": {
   "cols": {
    "lenName": 16,
    "lenType": 16,
    "lenVar": 40
   },
   "kernels_config": {
    "python": {
     "delete_cmd_postfix": "",
     "delete_cmd_prefix": "del ",
     "library": "var_list.py",
     "varRefreshCmd": "print(var_dic_list())"
    },
    "r": {
     "delete_cmd_postfix": ") ",
     "delete_cmd_prefix": "rm(",
     "library": "var_list.r",
     "varRefreshCmd": "cat(var_dic_list()) "
    }
   },
   "types_to_exclude": [
    "module",
    "function",
    "builtin_function_or_method",
    "instance",
    "_Feature"
   ],
   "window_display": false
  }
 },
 "nbformat": 4,
 "nbformat_minor": 4
}
